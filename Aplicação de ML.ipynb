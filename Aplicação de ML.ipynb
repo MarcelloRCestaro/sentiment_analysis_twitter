{
 "cells": [
  {
   "cell_type": "markdown",
   "metadata": {},
   "source": [
    "# Aplicação do Machine Learning"
   ]
  },
  {
   "cell_type": "markdown",
   "metadata": {},
   "source": [
    "## Bibliotecas comuns entre processos"
   ]
  },
  {
   "cell_type": "code",
   "execution_count": 3,
   "metadata": {
    "collapsed": true
   },
   "outputs": [],
   "source": [
    "from sklearn.model_selection import train_test_split\n",
    "from libdata import load_data\n",
    "import numpy as np\n",
    "import pandas as pd\n",
    "import matplotlib.pyplot as plt\n",
    "import sys, json\n",
    "\n",
    "%matplotlib inline"
   ]
  },
  {
   "cell_type": "markdown",
   "metadata": {
    "collapsed": true
   },
   "source": [
    "## Exploratória\n"
   ]
  },
  {
   "cell_type": "code",
   "execution_count": 4,
   "metadata": {},
   "outputs": [
    {
     "data": {
      "text/html": [
       "<div>\n",
       "<style>\n",
       "    .dataframe thead tr:only-child th {\n",
       "        text-align: right;\n",
       "    }\n",
       "\n",
       "    .dataframe thead th {\n",
       "        text-align: left;\n",
       "    }\n",
       "\n",
       "    .dataframe tbody tr th {\n",
       "        vertical-align: top;\n",
       "    }\n",
       "</style>\n",
       "<table border=\"1\" class=\"dataframe\">\n",
       "  <thead>\n",
       "    <tr style=\"text-align: right;\">\n",
       "      <th></th>\n",
       "      <th>Sentimento</th>\n",
       "      <th>Texto</th>\n",
       "    </tr>\n",
       "  </thead>\n",
       "  <tbody>\n",
       "    <tr>\n",
       "      <th>0</th>\n",
       "      <td>1</td>\n",
       "      <td>Que coisa linda! O Programa #encontro estava m...</td>\n",
       "    </tr>\n",
       "    <tr>\n",
       "      <th>1</th>\n",
       "      <td>1</td>\n",
       "      <td>Por mais #Encontro com as Irmãs Galvão, adorei...</td>\n",
       "    </tr>\n",
       "    <tr>\n",
       "      <th>2</th>\n",
       "      <td>1</td>\n",
       "      <td>Mr. CATRA @OficialMrCatra lançando sua nova mú...</td>\n",
       "    </tr>\n",
       "    <tr>\n",
       "      <th>3</th>\n",
       "      <td>0</td>\n",
       "      <td>quem viu aquela lutadora modela barbuda tatuad...</td>\n",
       "    </tr>\n",
       "    <tr>\n",
       "      <th>4</th>\n",
       "      <td>-1</td>\n",
       "      <td>Tô passada com esse cara.... quanta merda pode...</td>\n",
       "    </tr>\n",
       "  </tbody>\n",
       "</table>\n",
       "</div>"
      ],
      "text/plain": [
       "   Sentimento                                              Texto\n",
       "0           1  Que coisa linda! O Programa #encontro estava m...\n",
       "1           1  Por mais #Encontro com as Irmãs Galvão, adorei...\n",
       "2           1  Mr. CATRA @OficialMrCatra lançando sua nova mú...\n",
       "3           0  quem viu aquela lutadora modela barbuda tatuad...\n",
       "4          -1  Tô passada com esse cara.... quanta merda pode..."
      ]
     },
     "execution_count": 4,
     "metadata": {},
     "output_type": "execute_result"
    }
   ],
   "source": [
    "pathData = 'dataFinal.csv'\n",
    "df = pd.read_csv(pathData)\n",
    "df.head()"
   ]
  },
  {
   "cell_type": "code",
   "execution_count": 5,
   "metadata": {},
   "outputs": [
    {
     "data": {
      "text/plain": [
       "0    Que coisa linda! O Programa #encontro estava m...\n",
       "1    Por mais #Encontro com as Irmãs Galvão, adorei...\n",
       "2    Mr. CATRA @OficialMrCatra lançando sua nova mú...\n",
       "3    quem viu aquela lutadora modela barbuda tatuad...\n",
       "4    Tô passada com esse cara.... quanta merda pode...\n",
       "5          Cibele arrasou, humilhou!! #VideoShowAoVivo\n",
       "6       Em Minas sacolé é chup chup!  #videoshowaovivo\n",
       "7    Meu prato MasterChef de sardinha enlatada seri...\n",
       "8    Esse japa não entendi porra nenhuma de orquíde...\n",
       "9    A Cearamirinense mais famosa do Brasil no #Ede...\n",
       "Name: Texto, dtype: object"
      ]
     },
     "execution_count": 5,
     "metadata": {},
     "output_type": "execute_result"
    }
   ],
   "source": [
    "df.iloc[:10, 1]"
   ]
  },
  {
   "cell_type": "code",
   "execution_count": 6,
   "metadata": {},
   "outputs": [
    {
     "data": {
      "text/plain": [
       "'Mr. CATRA @OficialMrCatra lançando sua nova música PPK CHORA no @SBTTheNoite k k k👅😉'"
      ]
     },
     "execution_count": 6,
     "metadata": {},
     "output_type": "execute_result"
    }
   ],
   "source": [
    "df.iloc[2,1]"
   ]
  },
  {
   "cell_type": "markdown",
   "metadata": {},
   "source": [
    "## Pré-processamento"
   ]
  },
  {
   "cell_type": "markdown",
   "metadata": {},
   "source": [
    "Passos do pré-processamento:\n",
    "- Deixar as palavras em vetores\n",
    "- Limpar texto de espaços excessivos e caracteres especiais.\n",
    "- Tirar stopwords.\n",
    "- Normalizar utilizando Stemming."
   ]
  },
  {
   "cell_type": "code",
   "execution_count": 7,
   "metadata": {
    "collapsed": true
   },
   "outputs": [],
   "source": [
    "import re"
   ]
  },
  {
   "cell_type": "code",
   "execution_count": 8,
   "metadata": {
    "collapsed": true
   },
   "outputs": [],
   "source": [
    "x = np.array(df.loc[:, 'Texto'])\n",
    "y = np.array(df.loc[:, 'Sentimento'])"
   ]
  },
  {
   "cell_type": "code",
   "execution_count": 9,
   "metadata": {},
   "outputs": [
    {
     "name": "stdout",
     "output_type": "stream",
     "text": [
      "[2 2 2 1 0]\n"
     ]
    }
   ],
   "source": [
    "# Transformando 0 em 1, 1 em 2, -1 em 0\n",
    "y = y + 1\n",
    "print(y[:5])"
   ]
  },
  {
   "cell_type": "code",
   "execution_count": 10,
   "metadata": {},
   "outputs": [
    {
     "data": {
      "text/plain": [
       "['Que coisa linda O Programa encontro estava mostrando uma familia que adotou um adolescente de 18 anos Que amor',\n",
       " 'Por mais Encontro com as Irmãs Galvão adorei elas',\n",
       " 'Mr CATRA  lançando sua nova música PPK CHORA no  k k k']"
      ]
     },
     "execution_count": 10,
     "metadata": {},
     "output_type": "execute_result"
    }
   ],
   "source": [
    "only_words = [re.sub(\"(@[A-Za-z0-9à-úÀ-Ú]+)|([^0-9A-Za-zà-úÀ-Ú ])|(\\w+:\\/\\/\\S+)\",\"\",i) for i in x]\n",
    "only_words[:3]"
   ]
  },
  {
   "cell_type": "code",
   "execution_count": 11,
   "metadata": {},
   "outputs": [
    {
     "data": {
      "text/plain": [
       "'quem viu aquela lutadora modela barbuda tatuada MasterChefBR'"
      ]
     },
     "execution_count": 11,
     "metadata": {},
     "output_type": "execute_result"
    }
   ],
   "source": [
    "import unicodedata\n",
    "import nltk\n",
    "\n",
    "no_special = []\n",
    "\n",
    "for word in only_words:\n",
    "    nfkd_form = unicodedata.normalize('NFKD', word)\n",
    "    only_ascii = nfkd_form.encode('ASCII', 'ignore')\n",
    "    no_special.append(only_ascii.decode('utf-8'))\n",
    "    \n",
    "no_special[3]"
   ]
  },
  {
   "cell_type": "code",
   "execution_count": 12,
   "metadata": {},
   "outputs": [
    {
     "data": {
      "text/plain": [
       "array(['cibele', 'arrasou', 'humilhou', 'videoshowaovivo'],\n",
       "      dtype='<U15')"
      ]
     },
     "execution_count": 12,
     "metadata": {},
     "output_type": "execute_result"
    }
   ],
   "source": [
    "words = [np.array(i.lower().strip().split()) for i in no_special]\n",
    "words[5]"
   ]
  },
  {
   "cell_type": "code",
   "execution_count": 13,
   "metadata": {
    "collapsed": true
   },
   "outputs": [],
   "source": [
    "from nltk.corpus import stopwords # Import the stop word list"
   ]
  },
  {
   "cell_type": "code",
   "execution_count": 14,
   "metadata": {
    "collapsed": true
   },
   "outputs": [],
   "source": [
    "no_stopwords = []\n",
    "\n",
    "for word in words:\n",
    "    word = [w for w in word if not w in stopwords.words(\"portuguese\")]\n",
    "    no_stopwords.append(word)"
   ]
  },
  {
   "cell_type": "code",
   "execution_count": 15,
   "metadata": {},
   "outputs": [
    {
     "data": {
      "text/plain": [
       "['viu', 'lutadora', 'modela', 'barbuda', 'tatuada', 'masterchefbr']"
      ]
     },
     "execution_count": 15,
     "metadata": {},
     "output_type": "execute_result"
    }
   ],
   "source": [
    "no_stopwords[3]"
   ]
  },
  {
   "cell_type": "code",
   "execution_count": 16,
   "metadata": {
    "collapsed": true
   },
   "outputs": [],
   "source": [
    "from nltk.stem.snowball import SnowballStemmer\n",
    "\n",
    "stemmer = SnowballStemmer(\"portuguese\")"
   ]
  },
  {
   "cell_type": "code",
   "execution_count": 17,
   "metadata": {
    "collapsed": true
   },
   "outputs": [],
   "source": [
    "words_stemmed = []\n",
    "\n",
    "for word in no_stopwords:\n",
    "    words_stemmed.append([stemmer.stem(t) for t in word])"
   ]
  },
  {
   "cell_type": "code",
   "execution_count": 18,
   "metadata": {},
   "outputs": [
    {
     "data": {
      "text/plain": [
       "['viu', 'lutador', 'model', 'barbud', 'tatu', 'masterchefbr']"
      ]
     },
     "execution_count": 18,
     "metadata": {},
     "output_type": "execute_result"
    }
   ],
   "source": [
    "words_stemmed[3]"
   ]
  },
  {
   "cell_type": "code",
   "execution_count": 19,
   "metadata": {},
   "outputs": [
    {
     "data": {
      "text/plain": [
       "'viu lutador model barbud tatu masterchefbr'"
      ]
     },
     "execution_count": 19,
     "metadata": {},
     "output_type": "execute_result"
    }
   ],
   "source": [
    "clean_doc = []\n",
    "for word in words_stemmed:\n",
    "    clean_doc.append(' '.join(word))\n",
    "clean_doc[3]"
   ]
  },
  {
   "cell_type": "code",
   "execution_count": 20,
   "metadata": {
    "collapsed": true
   },
   "outputs": [],
   "source": [
    "from sklearn.feature_extraction.text import CountVectorizer\n",
    "  \n",
    "vectorizer = CountVectorizer(analyzer = \"word\",   \\\n",
    "                             tokenizer = None,    \\\n",
    "                             preprocessor = None, \\\n",
    "                             stop_words = None,   \\\n",
    "                             max_features = 5000)  "
   ]
  },
  {
   "cell_type": "code",
   "execution_count": 21,
   "metadata": {
    "collapsed": true
   },
   "outputs": [],
   "source": [
    "train_data_features = vectorizer.fit_transform(clean_doc)\n",
    "train_data_features = train_data_features.toarray()"
   ]
  },
  {
   "cell_type": "code",
   "execution_count": 22,
   "metadata": {},
   "outputs": [
    {
     "data": {
      "text/plain": [
       "(8363, 5000)"
      ]
     },
     "execution_count": 22,
     "metadata": {},
     "output_type": "execute_result"
    }
   ],
   "source": [
    "train_data_features.shape"
   ]
  },
  {
   "cell_type": "code",
   "execution_count": 23,
   "metadata": {
    "collapsed": true
   },
   "outputs": [],
   "source": [
    "x = train_data_features"
   ]
  },
  {
   "cell_type": "markdown",
   "metadata": {},
   "source": [
    "## Verificação"
   ]
  },
  {
   "cell_type": "code",
   "execution_count": 24,
   "metadata": {},
   "outputs": [
    {
     "name": "stdout",
     "output_type": "stream",
     "text": [
      "8363\n",
      "(8363, 5000)\n",
      "8363\n",
      "(8363,)\n",
      "8363\n",
      "(8363, 2)\n"
     ]
    }
   ],
   "source": [
    "print(len(x))\n",
    "print(x.shape)\n",
    "print(len(y))\n",
    "print(y.shape)\n",
    "print(len(df))\n",
    "print(df.shape)"
   ]
  },
  {
   "cell_type": "code",
   "execution_count": 25,
   "metadata": {},
   "outputs": [
    {
     "name": "stdout",
     "output_type": "stream",
     "text": [
      "Os valores batem.\n"
     ]
    }
   ],
   "source": [
    "#Verificação\n",
    "\n",
    "counter = 0 \n",
    "not_good = 0\n",
    "for i in range(len(x)):\n",
    "    if df.loc[i][0] == y[i] - 1:\n",
    "        counter += 1\n",
    "    else: \n",
    "        not_good = i\n",
    "if counter == len(x):\n",
    "    print(\"Os valores batem.\")\n",
    "else: \n",
    "    print(\"Os valores não batem no índice:\" + str(not_good))"
   ]
  },
  {
   "cell_type": "markdown",
   "metadata": {},
   "source": [
    "## Separação de set de teste"
   ]
  },
  {
   "cell_type": "code",
   "execution_count": 26,
   "metadata": {
    "collapsed": true
   },
   "outputs": [],
   "source": [
    "X_train, X_test, y_train, y_test = train_test_split(x, y, test_size=0.2, random_state=42)"
   ]
  },
  {
   "cell_type": "markdown",
   "metadata": {},
   "source": [
    "## Usando Random Forest Classifier"
   ]
  },
  {
   "cell_type": "code",
   "execution_count": 27,
   "metadata": {
    "collapsed": true
   },
   "outputs": [],
   "source": [
    "from sklearn.ensemble import RandomForestClassifier"
   ]
  },
  {
   "cell_type": "code",
   "execution_count": 37,
   "metadata": {
    "collapsed": true
   },
   "outputs": [],
   "source": [
    "forest = RandomForestClassifier(n_estimators = 77, verbose=True)"
   ]
  },
  {
   "cell_type": "code",
   "execution_count": 38,
   "metadata": {},
   "outputs": [
    {
     "name": "stderr",
     "output_type": "stream",
     "text": [
      "[Parallel(n_jobs=1)]: Done  77 out of  77 | elapsed:   31.4s finished\n"
     ]
    }
   ],
   "source": [
    "forest = forest.fit(X_train, y_train)"
   ]
  },
  {
   "cell_type": "code",
   "execution_count": 39,
   "metadata": {},
   "outputs": [
    {
     "name": "stdout",
     "output_type": "stream",
     "text": [
      "Score da Random Forest no set de treino: 0.985351270553\n",
      "Score da Random Forest no set de teste: 0.611476389719\n"
     ]
    },
    {
     "name": "stderr",
     "output_type": "stream",
     "text": [
      "[Parallel(n_jobs=1)]: Done  77 out of  77 | elapsed:    0.6s finished\n",
      "[Parallel(n_jobs=1)]: Done  77 out of  77 | elapsed:    0.2s finished\n"
     ]
    }
   ],
   "source": [
    "print(\"Score da Random Forest no set de treino: \"+str(forest.score(X_train, y_train)))\n",
    "print(\"Score da Random Forest no set de teste: \"+str(forest.score(X_test, y_test)))"
   ]
  },
  {
   "cell_type": "code",
   "execution_count": 31,
   "metadata": {},
   "outputs": [
    {
     "name": "stderr",
     "output_type": "stream",
     "text": [
      "100%|██████████| 99/99 [37:23<00:00, 22.66s/it]\n"
     ]
    },
    {
     "data": {
      "image/png": "[encoded data removed]",
      "text/plain": [
       "<matplotlib.figure.Figure at 0x7f132894cf28>"
      ]
     },
     "metadata": {},
     "output_type": "display_data"
    }
   ],
   "source": [
    "# Teste para a melhor acurácia em função dos estimators\n",
    "\n",
    "from tqdm import tqdm\n",
    "def plot_accs(values, accs_train, accs_test, param_name):\n",
    "    plt.plot(values, accs_train, label='train')\n",
    "    plt.plot(values, accs_test, label='test')\n",
    "    plt.ylabel('Accuracy')\n",
    "    plt.xlabel(param_name)\n",
    "    plt.legend()\n",
    "\n",
    "values = list(range(1, 100))\n",
    "accs_train = []\n",
    "accs_test = []\n",
    "\n",
    "for i in tqdm(values):\n",
    "    forest_test = RandomForestClassifier(n_estimators = i)\n",
    "    forest_test = forest_test.fit(X_train, y_train)\n",
    "    accs_train.append(forest_test.score(X_train, y_train))\n",
    "    accs_test.append(forest_test.score(X_test, y_test))\n",
    "    \n",
    "param_name = 'n_estimators'\n",
    "plot_accs(values, accs_train, accs_test, param_name)"
   ]
  },
  {
   "cell_type": "code",
   "execution_count": 36,
   "metadata": {},
   "outputs": [
    {
     "data": {
      "text/plain": [
       "77"
      ]
     },
     "execution_count": 36,
     "metadata": {},
     "output_type": "execute_result"
    }
   ],
   "source": [
    "best_estimators = accs_test.index(max(accs_test))\n",
    "best_estimators"
   ]
  }
 ],
 "metadata": {
  "kernelspec": {
   "display_name": "Python 3",
   "language": "python",
   "name": "python3"
  },
  "language_info": {
   "codemirror_mode": {
    "name": "ipython",
    "version": 3
   },
   "file_extension": ".py",
   "mimetype": "text/x-python",
   "name": "python",
   "nbconvert_exporter": "python",
   "pygments_lexer": "ipython3",
   "version": "3.6.4"
  }
 },
 "nbformat": 4,
 "nbformat_minor": 2
}
